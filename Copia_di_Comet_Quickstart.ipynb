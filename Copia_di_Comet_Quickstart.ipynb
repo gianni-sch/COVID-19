{
  "nbformat": 4,
  "nbformat_minor": 0,
  "metadata": {
    "colab": {
      "provenance": [],
      "include_colab_link": true
    },
    "kernelspec": {
      "name": "python3",
      "display_name": "Python 3"
    },
    "language_info": {
      "name": "python"
    }
  },
  "cells": [
    {
      "cell_type": "markdown",
      "metadata": {
        "id": "view-in-github",
        "colab_type": "text"
      },
      "source": [
        "<a href=\"https://colab.research.google.com/github/gianni-sch/COVID-19/blob/master/Copia_di_Comet_Quickstart.ipynb\" target=\"_parent\"><img src=\"https://colab.research.google.com/assets/colab-badge.svg\" alt=\"Open In Colab\"/></a>"
      ]
    },
    {
      "cell_type": "markdown",
      "metadata": {
        "id": "ag4xh64ZTHih"
      },
      "source": [
        "# Installing Comet"
      ]
    },
    {
      "cell_type": "code",
      "metadata": {
        "id": "03o0cfSzSwkG",
        "colab": {
          "base_uri": "https://localhost:8080/"
        },
        "outputId": "afbd0d3f-989e-4f9f-b729-2b5a1991eaa4"
      },
      "source": [
        "!pip install comet_ml --quiet"
      ],
      "execution_count": null,
      "outputs": [
        {
          "output_type": "stream",
          "name": "stdout",
          "text": [
            "\u001b[2K     \u001b[90m━━━━━━━━━━━━━━━━━━━━━━━━━━━━━━━━━━━━━━━━\u001b[0m \u001b[32m648.9/648.9 kB\u001b[0m \u001b[31m6.1 MB/s\u001b[0m eta \u001b[36m0:00:00\u001b[0m\n",
            "\u001b[2K     \u001b[90m━━━━━━━━━━━━━━━━━━━━━━━━━━━━━━━━━━━━━━━━\u001b[0m \u001b[32m3.3/3.3 MB\u001b[0m \u001b[31m17.2 MB/s\u001b[0m eta \u001b[36m0:00:00\u001b[0m\n",
            "\u001b[2K     \u001b[90m━━━━━━━━━━━━━━━━━━━━━━━━━━━━━━━━━━━━━━━━\u001b[0m \u001b[32m54.5/54.5 kB\u001b[0m \u001b[31m4.1 MB/s\u001b[0m eta \u001b[36m0:00:00\u001b[0m\n",
            "\u001b[2K     \u001b[90m━━━━━━━━━━━━━━━━━━━━━━━━━━━━━━━━━━━━━━━━\u001b[0m \u001b[32m266.8/266.8 kB\u001b[0m \u001b[31m3.0 MB/s\u001b[0m eta \u001b[36m0:00:00\u001b[0m\n",
            "\u001b[2K     \u001b[90m━━━━━━━━━━━━━━━━━━━━━━━━━━━━━━━━━━━━━━━━\u001b[0m \u001b[32m137.9/137.9 kB\u001b[0m \u001b[31m5.0 MB/s\u001b[0m eta \u001b[36m0:00:00\u001b[0m\n",
            "\u001b[2K     \u001b[90m━━━━━━━━━━━━━━━━━━━━━━━━━━━━━━━━━━━━━━━━\u001b[0m \u001b[32m54.3/54.3 kB\u001b[0m \u001b[31m3.5 MB/s\u001b[0m eta \u001b[36m0:00:00\u001b[0m\n",
            "\u001b[2K     \u001b[90m━━━━━━━━━━━━━━━━━━━━━━━━━━━━━━━━━━━━━━━━\u001b[0m \u001b[32m979.1/979.1 kB\u001b[0m \u001b[31m18.7 MB/s\u001b[0m eta \u001b[36m0:00:00\u001b[0m\n",
            "\u001b[?25h"
          ]
        }
      ]
    },
    {
      "cell_type": "markdown",
      "source": [
        "# Initialize Comet"
      ],
      "metadata": {
        "id": "zsqPglGzHh8Z"
      }
    },
    {
      "cell_type": "code",
      "source": [
        "import comet_ml\n",
        "comet_ml.init(project_name='comet-examples-quickstart')"
      ],
      "metadata": {
        "id": "nuSC8ppOHmXX",
        "colab": {
          "base_uri": "https://localhost:8080/"
        },
        "outputId": "457157df-4336-497b-8f50-ba4ea4a625b0"
      },
      "execution_count": null,
      "outputs": [
        {
          "name": "stdout",
          "output_type": "stream",
          "text": [
            "Please paste your Comet API key from https://www.comet.com/api/my/settings/\n",
            "(api key may not show as you type)\n",
            "Comet API key: ··········\n"
          ]
        },
        {
          "output_type": "stream",
          "name": "stderr",
          "text": [
            "\u001b[1;38;5;39mCOMET INFO:\u001b[0m Valid Comet API Key saved in /root/.comet.config (set COMET_CONFIG to change where it is saved).\n"
          ]
        }
      ]
    },
    {
      "cell_type": "markdown",
      "metadata": {
        "id": "xgwFcUruTFP0"
      },
      "source": [
        "# Creating an Experiment"
      ]
    },
    {
      "cell_type": "code",
      "metadata": {
        "id": "zwhPghpDS0OQ",
        "colab": {
          "base_uri": "https://localhost:8080/"
        },
        "outputId": "79ac5bcd-1c2a-48fa-ac64-d82441603eb2"
      },
      "source": [
        "experiment = comet_ml.Experiment()"
      ],
      "execution_count": null,
      "outputs": [
        {
          "output_type": "stream",
          "name": "stderr",
          "text": [
            "\u001b[1;38;5;214mCOMET WARNING:\u001b[0m As you are running in a Jupyter environment, you will need to call `experiment.end()` when finished to ensure all metrics and code are logged before exiting.\n",
            "\u001b[1;38;5;39mCOMET INFO:\u001b[0m Couldn't find a Git repository in '/content' nor in any parent directory. Set `COMET_GIT_DIRECTORY` if your Git Repository is elsewhere.\n",
            "\u001b[1;38;5;39mCOMET INFO:\u001b[0m Experiment is live on comet.com https://www.comet.com/gianni-sch/comet-examples-quickstart/313248dc86dd479788ce254b8686677e\n",
            "\n"
          ]
        }
      ]
    },
    {
      "cell_type": "markdown",
      "metadata": {
        "id": "-qVfViluTOPH"
      },
      "source": [
        "# Logging a Metric"
      ]
    },
    {
      "cell_type": "code",
      "metadata": {
        "id": "C50klpFpTRHM"
      },
      "source": [
        "acc = 0.65\n",
        "experiment.log_metric('acc', acc)"
      ],
      "execution_count": null,
      "outputs": []
    },
    {
      "cell_type": "markdown",
      "metadata": {
        "id": "MDgvaKNITp1W"
      },
      "source": [
        "# Logging Multiple Metrics"
      ]
    },
    {
      "cell_type": "code",
      "metadata": {
        "id": "-77fV1AUTr5a"
      },
      "source": [
        "metrics = {'acc': 0.65, 'loss': 0.01}\n",
        "experiment.log_metrics(metrics)"
      ],
      "execution_count": null,
      "outputs": []
    },
    {
      "cell_type": "markdown",
      "metadata": {
        "id": "fgkKl3cSUjYE"
      },
      "source": [
        "# Logging Metrics Over Time"
      ]
    },
    {
      "cell_type": "code",
      "metadata": {
        "id": "0eYy4A46Unye"
      },
      "source": [
        "for idx, value in enumerate(range(0, 10)):\n",
        "    metrics = {\"train/loss\": value / 20, \"train/acc\": value / 10}\n",
        "    experiment.log_metrics(metrics, step=idx)"
      ],
      "execution_count": null,
      "outputs": []
    },
    {
      "cell_type": "markdown",
      "metadata": {
        "id": "oZEoKlHJTz4I"
      },
      "source": [
        "## Adding a Prefix to logged Metrics"
      ]
    },
    {
      "cell_type": "code",
      "metadata": {
        "id": "SrbOa75bT2j9"
      },
      "source": [
        "prefix = 'eval'\n",
        "metrics = {'acc': 0.65, 'loss': 0.01}\n",
        "experiment.log_metrics(metrics, prefix=prefix)"
      ],
      "execution_count": null,
      "outputs": []
    },
    {
      "cell_type": "markdown",
      "metadata": {
        "id": "m4jA0ayDTdOw"
      },
      "source": [
        "# Logging a Parameter"
      ]
    },
    {
      "cell_type": "code",
      "metadata": {
        "id": "AotDf4oQTeqx"
      },
      "source": [
        "batch_size = 32\n",
        "experiment.log_parameter('batch_size', batch_size)"
      ],
      "execution_count": null,
      "outputs": []
    },
    {
      "cell_type": "markdown",
      "metadata": {
        "id": "loLEbvKtUIMv"
      },
      "source": [
        "# Logging Multiple Parameters"
      ]
    },
    {
      "cell_type": "code",
      "metadata": {
        "id": "jKvPtcsJUJ4n"
      },
      "source": [
        "parameters = {'batch_size': 32, 'num_samples': 10000}\n",
        "experiment.log_parameters(parameters)"
      ],
      "execution_count": null,
      "outputs": []
    },
    {
      "cell_type": "markdown",
      "metadata": {
        "id": "Xx4gmdWvV29X"
      },
      "source": [
        "# Logging Parameters Over Time"
      ]
    },
    {
      "cell_type": "code",
      "metadata": {
        "id": "C92fAjKQV563"
      },
      "source": [
        "for idx, x in enumerate(range(0, 5)):\n",
        "    lr = x / 1000\n",
        "    experiment.log_parameter(\"learning_rate\", lr, step=idx)"
      ],
      "execution_count": null,
      "outputs": []
    },
    {
      "cell_type": "markdown",
      "metadata": {
        "id": "fpUCt3vWUa7o"
      },
      "source": [
        "## Adding a Prefix to logged Parameters"
      ]
    },
    {
      "cell_type": "code",
      "metadata": {
        "id": "UjN7gvD_UYBi"
      },
      "source": [
        "prefix = 'train'\n",
        "parameters = {'batch_size': 32, 'learning_rate': 0.0001}\n",
        "experiment.log_parameters(parameters, prefix=prefix)"
      ],
      "execution_count": null,
      "outputs": []
    },
    {
      "cell_type": "markdown",
      "source": [
        "# End the Experiment"
      ],
      "metadata": {
        "id": "OT4ToJSyc_d7"
      }
    },
    {
      "cell_type": "code",
      "source": [
        "experiment.end()"
      ],
      "metadata": {
        "id": "UPFFYtZtdArM",
        "colab": {
          "base_uri": "https://localhost:8080/"
        },
        "outputId": "6cfdd9fb-ca2c-46ad-feb9-746d554ef405"
      },
      "execution_count": null,
      "outputs": [
        {
          "output_type": "stream",
          "name": "stderr",
          "text": [
            "\u001b[1;38;5;39mCOMET INFO:\u001b[0m ---------------------------------------------------------------------------------------\n",
            "\u001b[1;38;5;39mCOMET INFO:\u001b[0m Comet.ml Experiment Summary\n",
            "\u001b[1;38;5;39mCOMET INFO:\u001b[0m ---------------------------------------------------------------------------------------\n",
            "\u001b[1;38;5;39mCOMET INFO:\u001b[0m   Data:\n",
            "\u001b[1;38;5;39mCOMET INFO:\u001b[0m     display_summary_level : 1\n",
            "\u001b[1;38;5;39mCOMET INFO:\u001b[0m     name                  : profound_silverfish_559\n",
            "\u001b[1;38;5;39mCOMET INFO:\u001b[0m     url                   : https://www.comet.com/gianni-sch/comet-examples-quickstart/313248dc86dd479788ce254b8686677e\n",
            "\u001b[1;38;5;39mCOMET INFO:\u001b[0m   Metrics [count] (min, max):\n",
            "\u001b[1;38;5;39mCOMET INFO:\u001b[0m     acc             : 0.65\n",
            "\u001b[1;38;5;39mCOMET INFO:\u001b[0m     eval_acc        : 0.65\n",
            "\u001b[1;38;5;39mCOMET INFO:\u001b[0m     eval_loss       : 0.01\n",
            "\u001b[1;38;5;39mCOMET INFO:\u001b[0m     loss            : 0.01\n",
            "\u001b[1;38;5;39mCOMET INFO:\u001b[0m     train/acc [10]  : (0.0, 0.9)\n",
            "\u001b[1;38;5;39mCOMET INFO:\u001b[0m     train/loss [10] : (0.0, 0.45)\n",
            "\u001b[1;38;5;39mCOMET INFO:\u001b[0m   Parameters:\n",
            "\u001b[1;38;5;39mCOMET INFO:\u001b[0m     batch_size          : 32\n",
            "\u001b[1;38;5;39mCOMET INFO:\u001b[0m     learning_rate       : 0.004\n",
            "\u001b[1;38;5;39mCOMET INFO:\u001b[0m     num_samples         : 10000\n",
            "\u001b[1;38;5;39mCOMET INFO:\u001b[0m     train_batch_size    : 32\n",
            "\u001b[1;38;5;39mCOMET INFO:\u001b[0m     train_learning_rate : 0.0001\n",
            "\u001b[1;38;5;39mCOMET INFO:\u001b[0m   Uploads:\n",
            "\u001b[1;38;5;39mCOMET INFO:\u001b[0m     environment details : 1\n",
            "\u001b[1;38;5;39mCOMET INFO:\u001b[0m     filename            : 1\n",
            "\u001b[1;38;5;39mCOMET INFO:\u001b[0m     installed packages  : 1\n",
            "\u001b[1;38;5;39mCOMET INFO:\u001b[0m     notebook            : 2\n",
            "\u001b[1;38;5;39mCOMET INFO:\u001b[0m     os packages         : 1\n",
            "\u001b[1;38;5;39mCOMET INFO:\u001b[0m     source_code         : 1\n",
            "\u001b[1;38;5;39mCOMET INFO:\u001b[0m \n"
          ]
        }
      ]
    }
  ]
}